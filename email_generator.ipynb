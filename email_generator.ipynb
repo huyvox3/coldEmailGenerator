{
 "cells": [
  {
   "cell_type": "code",
   "execution_count": 20,
   "metadata": {},
   "outputs": [],
   "source": [
    "from langchain_groq  import ChatGroq"
   ]
  },
  {
   "cell_type": "code",
   "execution_count": 21,
   "metadata": {},
   "outputs": [],
   "source": [
    "from dotenv import load_dotenv\n",
    "import os\n",
    "load_dotenv()\n",
    "api_key =os.getenv(\"GROQ_API_KEY\")\n"
   ]
  },
  {
   "cell_type": "code",
   "execution_count": 22,
   "metadata": {},
   "outputs": [],
   "source": [
    "llm = ChatGroq(\n",
    "    temperature=0,\n",
    "    groq_api_key=api_key,\n",
    "    model_name='llama-3.1-70b-versatile'\n",
    ")"
   ]
  },
  {
   "cell_type": "code",
   "execution_count": 23,
   "metadata": {},
   "outputs": [
    {
     "name": "stdout",
     "output_type": "stream",
     "text": [
      "content=\"Neil Armstrong.  He stepped onto the moon's surface on July 20, 1969, during the Apollo 11 mission.\" additional_kwargs={} response_metadata={'token_usage': {'completion_tokens': 28, 'prompt_tokens': 44, 'total_tokens': 72, 'completion_time': 0.112, 'prompt_time': 0.012206236, 'queue_time': 0.004979612999999999, 'total_time': 0.124206236}, 'model_name': 'llama-3.1-70b-versatile', 'system_fingerprint': 'fp_9260b4bb2e', 'finish_reason': 'stop', 'logprobs': None} id='run-da4ba36b-aa66-469a-9e3b-5c58a5e6106e-0' usage_metadata={'input_tokens': 44, 'output_tokens': 28, 'total_tokens': 72}\n"
     ]
    }
   ],
   "source": [
    "response=llm.invoke(\"The first person to land on moon was...\")\n",
    "print(response)"
   ]
  },
  {
   "cell_type": "code",
   "execution_count": 24,
   "metadata": {},
   "outputs": [
    {
     "name": "stdout",
     "output_type": "stream",
     "text": [
      "Apply for Software Engineer III\n",
      "\n",
      "Search JobsSkip navigationSearch JobsNIKE, INC. JOBSContract JobsJoin The Talent CommunityLife @ NikeOverviewBenefitsBrandsOverviewJordanConverseTeamsOverviewAdministrative SupportAdvanced InnovationAir Manufacturing InnovationAviationCommunicationsCustomer ServiceDesignDigitalFacilitiesFinance & AccountingGovernment & Public AffairsHuman ResourcesInsights & AnalyticsLegalManufacturing & EngineeringMarketingMerchandisingPlanningPrivacyProcurementProduct Creation, Development & ManagementRetail CorporateRetail StoresSalesSocial & Community ImpactSports MarketingStrategic PlanningSupply Chain, Distribution & LogisticsSustainabilityTechnologyLocationsOverviewNike WHQNike New York HQEHQ: Hilversum, The NetherlandsELC: Laakdal, BelgiumGreater China HQDiversity, Equity & InclusionOverviewMilitary InclusionDisability InclusionIndigenous InclusionInternshipsTechnologySoftware Engineer IIIBeaverton, OregonBecome a Part of the NIKE, Inc. TeamNIKE, Inc. does more than outfit the world’s best athletes. It is a place to explore potential, obliterate boundaries and push out the edges of what can be. The company looks for people who can grow, think, dream and create. Its culture thrives by embracing diversity and rewarding imagination. The brand seeks achievers, leaders and visionaries. At NIKE, Inc. it’s about each person bringing skills and passion to a challenging and constantly evolving game.NIKE is a technology company. From our flagship website and five-star mobile apps to developing products, managing big data and providing leading edge engineering and systems support, our teams at NIKE Global Technology exist to revolutionize the future at the confluence of tech and sport. We invest and develop advances in technology and employ the most creative people in the world, and then give them the support to constantly innovate, iterate and serve consumers more directly and personally.  Our teams are innovative, diverse, multidisciplinary and collaborative, taking technology into the future and bringing the world with it.WHO YOU’LL WORK WITHYou will work with world-class talent of people and be part of the Consumer Product x Innovation team, reporting to the Engineering Director. This role will be working in an Agile Scrum environment with support of an assigned SCRUM Master, dedicated product management and a team of quality engineers to develop new capabilities, enhancements, and provide ongoing maintenance.WHO WE ARE LOOKING FORWe are looking for a Software Engineer III to join the Consumer Product x Innovation Team who excels in a team environment and is excited about building cloud native user experiences that can scale with the demand of our consumers. This role is part of the Product Creation team which is focused on driving the acceleration of Nike product from concept to manufacturing. The candidate needs to have a strong understanding of front end technical concepts, excellent attention to detail, strong verbal and written communication skills, be self-motivated and operates with a high sense of urgency and a high level of integrity. As a Software Engineer III on the Product Creation team, you’ll work with a multifaceted group of engineers as peers or in partner teams who build and support our product creation process.Bachelor’s degree in Computer Science, Information Systems, or another relevant field or relevant professional experience in lieu of a degreeDemonstrate leadership by coaching, mentoring, and training others; be a subject matter expertPartner with UX team to bring their vision to a reality that wows the customerEmbrace a lifelong learning mindset by engaging in group and self-driven training activities to keep current with changes to technologies, patterns, and practices5+ years’ experience using ReactJs5+ years’ experience using JavaScript/Node3+ years’ developing in microservice architecture, domain driven design, and RESTful APIsExperience in designing and building serverless architecturesSolid foundation in data structures, algorithms, and architecture patternsAbility to define solutions, provide estimates on effort and risk, and evaluate technical feasibilityProficient with modern build strategies, continuous integration, unit testing, static analysis, and automated integration testsExperienced with NoSQL to ensure data storage is designed for security, reliability, availability, maintainability, and performanceProficient in performing technical code reviews and pair programmingKnowledgeable with version control systems (Git) and issue tracking tools (JIRA)Experience with CD/CI and related tools (BMX Jenkins, QMA, etc.)Proven track record of solving problems and getting things done in a fast-paced, ever-evolving environmentAbility to work in cross-functional teams and demonstrate strong interpersonal skillWHAT YOU’LL WORK ONAs part of this team, you will be collaborating with engineers to design, develop, and implement next generation Digital Product Creation capabilities and services.  With the changes in retail, you will be working on enabling new features and delivering new tools and solutions. You will be building new features in a cloud-based architecture using object-oriented programming systems/database concepts in an agile environment. You will work directly with Product Management and Experience Design partners to innovate and design for changing product creation environment.Evangelize and cultivate adoption of DevOps practices, open source software and agile principles within the organizationEnsure solutions are designed and developed using a scalable, highly resilient cloud native architectureDeliver well-documented and well-tested code, and participate in peer code reviewsDesign and develop tools and frameworks to improve security, reliability, maintainability, availability and performance for the technology foundation of our platformEnsure product and technical features are delivered to spec and on-timeCollaborate with and consult other Nike development teams, architecture teams etc.Explain designs and constraints to stakeholders and technical teams, gather alignment and buy-inProvide responsive support and operations for the platforms you help build.Work with product management to support product / service scoping activitiesWork with leadership to define delivery schedules of key features through an agile frameworkBe a key contributor to overall architecture, framework and design of global platformsNIKE, Inc. is a growth company that looks for team members to grow with it. Nike offers a generous total rewards package, casual work environment, a diverse and inclusive culture, and an electric atmosphere for professional development. No matter the location, or the role, every Nike employee shares one galvanizing mission: To bring inspiration and innovation to every athlete* in the world.NIKE, Inc. is committed to employing a diverse workforce. Qualified applicants will receive consideration without regard to race, color, religion, sex, national origin, age, sexual orientation, gender identity, gender expression, veteran status, or disability.How We HireAt NIKE, Inc. we promise to provide a premium, inclusive, compelling and authentic candidate experience. Delivering on this promise means we allow you to be at your best — and to do that, you need to understand how the hiring process works. Transparency is key.\n",
      "\n",
      "* This overview explains our hiring process for corporate roles. Note there may be different hiring steps involved for non-corporate roles.Start nowBenefitsWhether it’s transportation or financial health, we continually invest in our employees to help them achieve greatness — inside and outside of work. All who work here should be able to realize their full potential.Employee Assistance ProgramEmployee Stock Purchase Plan (ESPP)HolidaysMedical PlanPaid Time Off (PTO)Product DiscountsSabbaticalsLearn moreFIND A STOREBECOME A MEMBERSIGN UP FOR EMAILSEND US FEEDBACKGET HELPGET HELPOrder StatusDeliveryReturnsPayment OptionsContact UsABOUT NIKEABOUT NIKENewsCareersInvestorsSustainabilityVietnam© 2024 Nike, Inc. All Rights ReservedGuidesNike AdaptNike Air MaxNike FlyleatherNike PegasusNike Zoom FlyNike AirNike FlyEaseNike FreeNike ReactNike ZoomXNike Air Force 1Nike FlyknitNike JoyrideNike VaporflyTerms of SaleTerms of UseNike Privacy Policy\n"
     ]
    }
   ],
   "source": [
    "from langchain_community.document_loaders import WebBaseLoader\n",
    "nike_job_url = \"https://jobs.nike.com/job/R-39452\"\n",
    "\n",
    "loader = WebBaseLoader(nike_job_url)\n",
    "page_data=loader.load().pop().page_content\n",
    "print(page_data)"
   ]
  },
  {
   "cell_type": "code",
   "execution_count": 25,
   "metadata": {},
   "outputs": [
    {
     "name": "stdout",
     "output_type": "stream",
     "text": [
      "```json\n",
      "{\n",
      "  \"role\": \"Software Engineer III\",\n",
      "  \"experience\": \"5+ years\",\n",
      "  \"skills\": [\n",
      "    \"ReactJs\",\n",
      "    \"JavaScript/Node\",\n",
      "    \"Microservice architecture\",\n",
      "    \"Domain driven design\",\n",
      "    \"RESTful APIs\",\n",
      "    \"Serverless architectures\",\n",
      "    \"Data structures\",\n",
      "    \"Algorithms\",\n",
      "    \"Architecture patterns\",\n",
      "    \"Modern build strategies\",\n",
      "    \"Continuous integration\",\n",
      "    \"Unit testing\",\n",
      "    \"Static analysis\",\n",
      "    \"Automated integration tests\",\n",
      "    \"NoSQL\",\n",
      "    \"Version control systems (Git)\",\n",
      "    \"Issue tracking tools (JIRA)\",\n",
      "    \"CD/CI and related tools (BMX Jenkins, QMA, etc.)\"\n",
      "  ],\n",
      "  \"description\": \"As part of this team, you will be collaborating with engineers to design, develop, and implement next generation Digital Product Creation capabilities and services. With the changes in retail, you will be working on enabling new features and delivering new tools and solutions. You will be building new features in a cloud-based architecture using object-oriented programming systems/database concepts in an agile environment.\"\n",
      "}\n",
      "```\n"
     ]
    }
   ],
   "source": [
    "from langchain_core.prompts import PromptTemplate\n",
    "\n",
    "prompt_extract = PromptTemplate.from_template(\n",
    "  \"\"\"\n",
    "    ###SCRAPED TEXT FROM WEBSITE:\n",
    "    {page_data}\n",
    "    ###INSTRUCTION:\n",
    "    The scraped text is from the career's page of a webiste.\n",
    "    Your job is to extract the job postings and return them in JSON format \n",
    "    containing the following keys:\n",
    "    `role`,`experience`,`skills` and `description`.\n",
    "    Only reutn the valid JSON.\n",
    "    ###VALID JSON( NO PREAMBLE): \n",
    "\"\"\"\n",
    "\n",
    ")\n",
    "chain_extract = prompt_extract | llm\n",
    "res = chain_extract.invoke(input={'page_data':page_data})\n",
    "print(res.content)"
   ]
  },
  {
   "cell_type": "code",
   "execution_count": 26,
   "metadata": {},
   "outputs": [
    {
     "data": {
      "text/plain": [
       "dict"
      ]
     },
     "execution_count": 26,
     "metadata": {},
     "output_type": "execute_result"
    }
   ],
   "source": [
    "from langchain_core.output_parsers import JsonOutputParser\n",
    "jsonOP = JsonOutputParser()\n",
    "json_res = jsonOP.parse(res.content)\n",
    "type(json_res)"
   ]
  },
  {
   "cell_type": "code",
   "execution_count": 27,
   "metadata": {},
   "outputs": [
    {
     "data": {
      "text/html": [
       "<div>\n",
       "<style scoped>\n",
       "    .dataframe tbody tr th:only-of-type {\n",
       "        vertical-align: middle;\n",
       "    }\n",
       "\n",
       "    .dataframe tbody tr th {\n",
       "        vertical-align: top;\n",
       "    }\n",
       "\n",
       "    .dataframe thead th {\n",
       "        text-align: right;\n",
       "    }\n",
       "</style>\n",
       "<table border=\"1\" class=\"dataframe\">\n",
       "  <thead>\n",
       "    <tr style=\"text-align: right;\">\n",
       "      <th></th>\n",
       "      <th>Techstack</th>\n",
       "      <th>Links</th>\n",
       "    </tr>\n",
       "  </thead>\n",
       "  <tbody>\n",
       "    <tr>\n",
       "      <th>0</th>\n",
       "      <td>React, Node.js, MongoDB</td>\n",
       "      <td>https://example.com/react-portfolio</td>\n",
       "    </tr>\n",
       "    <tr>\n",
       "      <th>1</th>\n",
       "      <td>Angular,.NET, SQL Server</td>\n",
       "      <td>https://example.com/angular-portfolio</td>\n",
       "    </tr>\n",
       "    <tr>\n",
       "      <th>2</th>\n",
       "      <td>Vue.js, Ruby on Rails, PostgreSQL</td>\n",
       "      <td>https://example.com/vue-portfolio</td>\n",
       "    </tr>\n",
       "    <tr>\n",
       "      <th>3</th>\n",
       "      <td>Python, Django, MySQL</td>\n",
       "      <td>https://example.com/python-portfolio</td>\n",
       "    </tr>\n",
       "    <tr>\n",
       "      <th>4</th>\n",
       "      <td>Java, Spring Boot, Oracle</td>\n",
       "      <td>https://example.com/java-portfolio</td>\n",
       "    </tr>\n",
       "    <tr>\n",
       "      <th>5</th>\n",
       "      <td>Flutter, Firebase, GraphQL</td>\n",
       "      <td>https://example.com/flutter-portfolio</td>\n",
       "    </tr>\n",
       "    <tr>\n",
       "      <th>6</th>\n",
       "      <td>WordPress, PHP, MySQL</td>\n",
       "      <td>https://example.com/wordpress-portfolio</td>\n",
       "    </tr>\n",
       "    <tr>\n",
       "      <th>7</th>\n",
       "      <td>Magento, PHP, MySQL</td>\n",
       "      <td>https://example.com/magento-portfolio</td>\n",
       "    </tr>\n",
       "    <tr>\n",
       "      <th>8</th>\n",
       "      <td>React Native, Node.js, MongoDB</td>\n",
       "      <td>https://example.com/react-native-portfolio</td>\n",
       "    </tr>\n",
       "    <tr>\n",
       "      <th>9</th>\n",
       "      <td>iOS, Swift, Core Data</td>\n",
       "      <td>https://example.com/ios-portfolio</td>\n",
       "    </tr>\n",
       "    <tr>\n",
       "      <th>10</th>\n",
       "      <td>Android, Java, Room Persistence</td>\n",
       "      <td>https://example.com/android-portfolio</td>\n",
       "    </tr>\n",
       "    <tr>\n",
       "      <th>11</th>\n",
       "      <td>Kotlin, Android, Firebase</td>\n",
       "      <td>https://example.com/kotlin-android-portfolio</td>\n",
       "    </tr>\n",
       "    <tr>\n",
       "      <th>12</th>\n",
       "      <td>Android TV, Kotlin, Android NDK</td>\n",
       "      <td>https://example.com/android-tv-portfolio</td>\n",
       "    </tr>\n",
       "    <tr>\n",
       "      <th>13</th>\n",
       "      <td>iOS, Swift, ARKit</td>\n",
       "      <td>https://example.com/ios-ar-portfolio</td>\n",
       "    </tr>\n",
       "    <tr>\n",
       "      <th>14</th>\n",
       "      <td>Cross-platform, Xamarin, Azure</td>\n",
       "      <td>https://example.com/xamarin-portfolio</td>\n",
       "    </tr>\n",
       "    <tr>\n",
       "      <th>15</th>\n",
       "      <td>Backend, Kotlin, Spring Boot</td>\n",
       "      <td>https://example.com/kotlin-backend-portfolio</td>\n",
       "    </tr>\n",
       "    <tr>\n",
       "      <th>16</th>\n",
       "      <td>Frontend, TypeScript, Angular</td>\n",
       "      <td>https://example.com/typescript-frontend-portfolio</td>\n",
       "    </tr>\n",
       "    <tr>\n",
       "      <th>17</th>\n",
       "      <td>Full-stack, JavaScript, Express.js</td>\n",
       "      <td>https://example.com/full-stack-js-portfolio</td>\n",
       "    </tr>\n",
       "    <tr>\n",
       "      <th>18</th>\n",
       "      <td>Machine Learning, Python, TensorFlow</td>\n",
       "      <td>https://example.com/ml-python-portfolio</td>\n",
       "    </tr>\n",
       "    <tr>\n",
       "      <th>19</th>\n",
       "      <td>DevOps, Jenkins, Docker</td>\n",
       "      <td>https://example.com/devops-portfolio</td>\n",
       "    </tr>\n",
       "  </tbody>\n",
       "</table>\n",
       "</div>"
      ],
      "text/plain": [
       "                               Techstack  \\\n",
       "0                React, Node.js, MongoDB   \n",
       "1               Angular,.NET, SQL Server   \n",
       "2      Vue.js, Ruby on Rails, PostgreSQL   \n",
       "3                  Python, Django, MySQL   \n",
       "4              Java, Spring Boot, Oracle   \n",
       "5             Flutter, Firebase, GraphQL   \n",
       "6                  WordPress, PHP, MySQL   \n",
       "7                    Magento, PHP, MySQL   \n",
       "8         React Native, Node.js, MongoDB   \n",
       "9                  iOS, Swift, Core Data   \n",
       "10       Android, Java, Room Persistence   \n",
       "11             Kotlin, Android, Firebase   \n",
       "12       Android TV, Kotlin, Android NDK   \n",
       "13                     iOS, Swift, ARKit   \n",
       "14        Cross-platform, Xamarin, Azure   \n",
       "15          Backend, Kotlin, Spring Boot   \n",
       "16         Frontend, TypeScript, Angular   \n",
       "17    Full-stack, JavaScript, Express.js   \n",
       "18  Machine Learning, Python, TensorFlow   \n",
       "19               DevOps, Jenkins, Docker   \n",
       "\n",
       "                                                Links  \n",
       "0                 https://example.com/react-portfolio  \n",
       "1               https://example.com/angular-portfolio  \n",
       "2                   https://example.com/vue-portfolio  \n",
       "3                https://example.com/python-portfolio  \n",
       "4                  https://example.com/java-portfolio  \n",
       "5               https://example.com/flutter-portfolio  \n",
       "6             https://example.com/wordpress-portfolio  \n",
       "7               https://example.com/magento-portfolio  \n",
       "8          https://example.com/react-native-portfolio  \n",
       "9                   https://example.com/ios-portfolio  \n",
       "10              https://example.com/android-portfolio  \n",
       "11       https://example.com/kotlin-android-portfolio  \n",
       "12           https://example.com/android-tv-portfolio  \n",
       "13               https://example.com/ios-ar-portfolio  \n",
       "14              https://example.com/xamarin-portfolio  \n",
       "15       https://example.com/kotlin-backend-portfolio  \n",
       "16  https://example.com/typescript-frontend-portfolio  \n",
       "17        https://example.com/full-stack-js-portfolio  \n",
       "18            https://example.com/ml-python-portfolio  \n",
       "19               https://example.com/devops-portfolio  "
      ]
     },
     "execution_count": 27,
     "metadata": {},
     "output_type": "execute_result"
    }
   ],
   "source": [
    "import pandas as pd\n",
    "df = pd.read_csv('my_portfolio.csv')\n",
    "df"
   ]
  },
  {
   "cell_type": "code",
   "execution_count": 28,
   "metadata": {},
   "outputs": [],
   "source": [
    "import chromadb, uuid\n",
    "\n",
    "client = chromadb.PersistentClient('vectordb')\n",
    "collection = client.get_or_create_collection(name='portfolio')\n",
    "\n",
    "if not collection.count():\n",
    "    for _, row in df.iterrows():\n",
    "        collection.add(documents=row[\"Techstack\"],\n",
    "                       metadatas={\"links\":row[\"Links\"]},\n",
    "                       ids=[str(uuid.uuid4())]\n",
    "                       )\n"
   ]
  },
  {
   "cell_type": "code",
   "execution_count": 29,
   "metadata": {},
   "outputs": [
    {
     "data": {
      "text/plain": [
       "[[{'links': 'https://example.com/ml-python-portfolio'},\n",
       "  {'links': 'https://example.com/python-portfolio'}],\n",
       " [{'links': 'https://example.com/react-native-portfolio'},\n",
       "  {'links': 'https://example.com/react-portfolio'}]]"
      ]
     },
     "execution_count": 29,
     "metadata": {},
     "output_type": "execute_result"
    }
   ],
   "source": [
    "links = collection.query(query_texts=[\"Experience in Python\",\"Expertise in React Native\"],n_results=2).get('metadatas')\n",
    "links"
   ]
  },
  {
   "cell_type": "code",
   "execution_count": 30,
   "metadata": {},
   "outputs": [
    {
     "data": {
      "text/plain": [
       "['ReactJs',\n",
       " 'JavaScript/Node',\n",
       " 'Microservice architecture',\n",
       " 'Domain driven design',\n",
       " 'RESTful APIs',\n",
       " 'Serverless architectures',\n",
       " 'Data structures',\n",
       " 'Algorithms',\n",
       " 'Architecture patterns',\n",
       " 'Modern build strategies',\n",
       " 'Continuous integration',\n",
       " 'Unit testing',\n",
       " 'Static analysis',\n",
       " 'Automated integration tests',\n",
       " 'NoSQL',\n",
       " 'Version control systems (Git)',\n",
       " 'Issue tracking tools (JIRA)',\n",
       " 'CD/CI and related tools (BMX Jenkins, QMA, etc.)']"
      ]
     },
     "execution_count": 30,
     "metadata": {},
     "output_type": "execute_result"
    }
   ],
   "source": [
    "job = json_res\n",
    "job['skills']"
   ]
  },
  {
   "cell_type": "code",
   "execution_count": 31,
   "metadata": {},
   "outputs": [
    {
     "name": "stdout",
     "output_type": "stream",
     "text": [
      "Subject: Expressed Interest in Software Engineer III Position and Showcasing VKU's Capabilities\n",
      "\n",
      "Dear Hiring Manager,\n",
      "\n",
      "I am Huy, a Software Engineer and a student at VKU, and I am excited to express my interest in the Software Engineer III position at your esteemed organization. As a student at VKU, I have had the privilege of being part of a community that fosters innovation, creativity, and excellence in the field of software engineering.\n",
      "\n",
      "Throughout my academic journey, I have been exposed to a wide range of technologies and tools that have equipped me with the skills and knowledge required to excel in this role. VKU's rigorous curriculum and hands-on approach to learning have enabled me to develop a strong foundation in software engineering principles, including data structures, algorithms, and architecture patterns.\n",
      "\n",
      "As a testament to VKU's capabilities in producing well-rounded software engineers, I would like to showcase some of my personal projects that demonstrate my skills and expertise. Some of my notable projects include:\n",
      "\n",
      "* A machine learning project built using Python, which can be found at https://example.com/ml-python-portfolio\n",
      "* A React Native project that showcases my proficiency in building cross-platform mobile applications, available at https://example.com/react-native-portfolio\n",
      "* A React project that highlights my skills in building responsive and scalable web applications, available at https://example.com/react-portfolio\n",
      "\n",
      "These projects demonstrate my ability to design, develop, and implement complex software systems using a variety of technologies and tools. I am confident that my skills and experience make me an ideal candidate for this role.\n",
      "\n",
      "I am particularly drawn to this position because of the opportunity to work on next-generation Digital Product Creation capabilities and services. I am excited about the prospect of collaborating with engineers to design, develop, and implement new features and tools in a cloud-based architecture using object-oriented programming systems and database concepts.\n",
      "\n",
      "Thank you for considering my application. I would welcome the opportunity to discuss my qualifications further and explain in greater detail why I am the ideal candidate for this role.\n",
      "\n",
      "Best regards,\n",
      "\n",
      "Huy\n",
      "Software Engineer and Student at VKU\n"
     ]
    }
   ],
   "source": [
    "\n",
    "\n",
    "prompt_email = PromptTemplate.from_template(\n",
    "    \"\"\"\n",
    "    ### JOB DESCRIPTION:\n",
    "    {job_description}\n",
    "    ### INSTRUCTION:\n",
    "    You are Huy, a Software Engineer, currently studying at VKU. \n",
    "    Over our experience, we have made numerous projects. Your job is to write a cold email to the client regarding the job mentioned above describing capability of VKU in making good students.\n",
    "     Also add the most relevant ones from the following links to showcase Huy's portfolio: {link_list}\n",
    "        Remember you are Huy, SE and currently studying at VKU. \n",
    "        Do not provide a preamble.\n",
    "        ### EMAIL (NO PREAMBLE):\n",
    "        \n",
    "    \"\"\"\n",
    ")\n",
    "\n",
    "chain_email = prompt_email | llm\n",
    "res = chain_email.invoke({\"job_description\": str(job),\"link_list\":links})\n",
    "\n",
    "\n",
    "print(res.content)"
   ]
  }
 ],
 "metadata": {
  "kernelspec": {
   "display_name": "llama",
   "language": "python",
   "name": "python3"
  },
  "language_info": {
   "codemirror_mode": {
    "name": "ipython",
    "version": 3
   },
   "file_extension": ".py",
   "mimetype": "text/x-python",
   "name": "python",
   "nbconvert_exporter": "python",
   "pygments_lexer": "ipython3",
   "version": "3.10.14"
  }
 },
 "nbformat": 4,
 "nbformat_minor": 2
}
